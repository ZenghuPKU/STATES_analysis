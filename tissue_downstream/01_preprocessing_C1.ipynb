{
 "cells": [
  {
   "cell_type": "code",
   "execution_count": null,
   "metadata": {},
   "outputs": [],
   "source": [
    "# layer: totalRNA, rbRNA, innuclei, TE\n",
    "import os\n",
    "import numpy as np\n",
    "import pandas as pd\n",
    "import scanpy as sc\n",
    "import anndata as ad\n",
    "import seaborn as sns\n",
    "import matplotlib.pyplot as plt\n",
    "from matplotlib.colors import ListedColormap\n",
    "from anndata import AnnData\n",
    "from tqdm.notebook import tqdm\n",
    "import scanpy.external as sce\n",
    "import harmonypy\n",
    "import scipy\n",
    "\n",
    "import warnings \n",
    "warnings.filterwarnings('ignore')"
   ]
  },
  {
   "cell_type": "markdown",
   "metadata": {},
   "source": [
    "`adata_C1` is loaded from a preprocessed `.h5ad` file.\n",
    "\n",
    "This dataset represents the C1 batch of wild-type mouse brain tissue.\n",
    "It has been processed upstream and is ready for downstream analysis."
   ]
  },
  {
   "cell_type": "code",
   "execution_count": null,
   "metadata": {},
   "outputs": [],
   "source": [
    "adata_C1 = ad.read('/path/to/C1_WT_mousebrain1_0224v1.h5ad')"
   ]
  },
  {
   "cell_type": "code",
   "execution_count": null,
   "metadata": {},
   "outputs": [],
   "source": [
    "#split omic \n",
    "# Filter based on the row labels (gene names) in `adata_C1.var`\n",
    "adata_C1_ntRNA = adata_C1[:, adata_C1.var_names.str.endswith('_ntRNA')]\n",
    "adata_C1_rbRNA = adata_C1[:, adata_C1.var_names.str.endswith('_rbRNA')]\n"
   ]
  },
  {
   "cell_type": "code",
   "execution_count": null,
   "metadata": {},
   "outputs": [],
   "source": [
    "new_feature_names = adata_C1.var_names.str.replace(r'(_ntRNA|_rbRNA)', '', regex=True).drop_duplicates()"
   ]
  },
  {
   "cell_type": "code",
   "execution_count": null,
   "metadata": {},
   "outputs": [],
   "source": [
    "new_X = adata_C1_ntRNA.X + adata_C1_rbRNA.X"
   ]
  },
  {
   "cell_type": "code",
   "execution_count": null,
   "metadata": {},
   "outputs": [],
   "source": [
    "new_data = sc.AnnData(X=new_X, var=pd.DataFrame(index=new_feature_names),obs=adata_C1.obs.copy())\n",
    "\n",
    "new_data.layers['ntRNA'] = adata_C1_ntRNA.X\n",
    "new_data.layers['rbRNA'] = adata_C1_rbRNA.X\n",
    "\n",
    "new_data.uns = adata_C1.uns.copy()\n",
    "\n",
    "print(new_data)"
   ]
  },
  {
   "cell_type": "markdown",
   "metadata": {},
   "source": [
    "`outer_counts` is loaded from `C1_remain_readsouter_extracted.csv`.\n",
    "\n",
    "This file contains the extracted counts of outer (non-nuclear) reads from the C1 batch of wild-type mouse brain tissue."
   ]
  },
  {
   "cell_type": "code",
   "execution_count": null,
   "metadata": {},
   "outputs": [],
   "source": [
    "outer_counts = pd.read_csv('/path/to/C1_remain_readsouter_extracted.csv', index_col=0)"
   ]
  },
  {
   "cell_type": "code",
   "execution_count": null,
   "metadata": {},
   "outputs": [],
   "source": [
    "existing_df = new_data.uns['remain_reads_info_new'].reset_index(drop=True)\n",
    "print(existing_df.columns)"
   ]
  },
  {
   "cell_type": "code",
   "execution_count": null,
   "metadata": {},
   "outputs": [],
   "source": [
    "outer_counts = outer_counts.reset_index(drop=True)\n",
    "merged_df = pd.concat([existing_df, outer_counts], ignore_index=True)"
   ]
  },
  {
   "cell_type": "code",
   "execution_count": null,
   "metadata": {},
   "outputs": [],
   "source": [
    "# IF raw_cell_barcode=-1, cell_barcode=-1\n",
    "merged_df.loc[merged_df['raw_cell_barcode'] == -1, ['cell_barcode', 'nuclei']] = -1\n",
    "\n",
    "merged_df = merged_df.drop(columns=['gene', 'gridc_gridr_tilenum', 'raw_cell_barcode'])\n",
    "new_data.uns['remain_reads_info_new'] = merged_df"
   ]
  },
  {
   "cell_type": "code",
   "execution_count": null,
   "metadata": {},
   "outputs": [],
   "source": [
    "rbRNA = new_data.layers['rbRNA'].toarray()  # Translation\n",
    "transcription = new_data.X  # Transcription\n"
   ]
  },
  {
   "cell_type": "code",
   "execution_count": null,
   "metadata": {},
   "outputs": [],
   "source": [
    "# Convert sparse matrix to dense numpy array\n",
    "transcription_dense = transcription.toarray()  # Converts the sparse matrix to a dense array\n",
    "\n",
    "# Apply np.where to avoid division by zero\n",
    "transcription_safe = np.where(transcription_dense == 0, np.nan, transcription_dense)"
   ]
  },
  {
   "cell_type": "code",
   "execution_count": null,
   "metadata": {},
   "outputs": [],
   "source": [
    "te = rbRNA / transcription_safe\n",
    "new_data.layers['TE'] = te"
   ]
  },
  {
   "cell_type": "code",
   "execution_count": null,
   "metadata": {},
   "outputs": [],
   "source": [
    "for layer_name, layer_data in new_data.layers.items():\n",
    "    if isinstance(layer_data, scipy.sparse.coo_matrix):\n",
    "        new_data.layers[layer_name] = layer_data.toarray()\n",
    "\n",
    "new_data.write('/path/to/C1_WT_mousebrain.h5ad')"
   ]
  }
 ],
 "metadata": {
  "kernelspec": {
   "display_name": "celltype_old",
   "language": "python",
   "name": "python3"
  },
  "language_info": {
   "codemirror_mode": {
    "name": "ipython",
    "version": 3
   },
   "file_extension": ".py",
   "mimetype": "text/x-python",
   "name": "python",
   "nbconvert_exporter": "python",
   "pygments_lexer": "ipython3",
   "version": "3.10.16"
  }
 },
 "nbformat": 4,
 "nbformat_minor": 2
}
