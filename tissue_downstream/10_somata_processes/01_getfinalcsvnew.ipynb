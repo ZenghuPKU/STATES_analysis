{
 "cells": [
  {
   "cell_type": "code",
   "execution_count": 1,
   "metadata": {},
   "outputs": [],
   "source": [
    "import numpy as np\n",
    "import pandas as pd\n",
    "import anndata\n",
    "import matplotlib.pyplot as plt\n",
    "import spatialdata as sd\n",
    "import scanpy as sc"
   ]
  },
  {
   "cell_type": "code",
   "execution_count": 2,
   "metadata": {},
   "outputs": [],
   "source": [
    "adata = sc.read_h5ad('/storage/lingyuan2/STATES_data/mousebrain_0503.h5ad')"
   ]
  },
  {
   "cell_type": "code",
   "execution_count": null,
   "metadata": {},
   "outputs": [],
   "source": [
    "adata"
   ]
  },
  {
   "cell_type": "code",
   "execution_count": null,
   "metadata": {},
   "outputs": [],
   "source": [
    "adata"
   ]
  },
  {
   "cell_type": "code",
   "execution_count": null,
   "metadata": {},
   "outputs": [],
   "source": [
    "df = adata.uns['remain_reads_info_new']\n",
    "# Get list of detected genes from adata.var\n",
    "detected_genes = adata.var[adata.var['detected']].index.tolist()\n",
    "\n",
    "# Filter df to only include detected genes\n",
    "df = df[df['gene'].isin(detected_genes)]\n",
    "df"
   ]
  },
  {
   "cell_type": "code",
   "execution_count": null,
   "metadata": {},
   "outputs": [],
   "source": [
    "# Group by gene and cell_barcode type (-1 vs non -1)\n",
    "processes = df[df['cell_barcode'] == -1].groupby(['gene', 'type']).size().unstack(fill_value=0)\n",
    "somata = df[df['cell_barcode'] != -1].groupby(['gene', 'type']).size().unstack(fill_value=0)\n",
    "\n",
    "# Calculate rbRNA/(rbRNA+ntRNA) TE for each group\n",
    "processes['TE'] = processes['rbRNA'] / (processes['rbRNA'] + processes['ntRNA'])\n",
    "somata['TE'] = somata['rbRNA'] / (somata['rbRNA'] + somata['ntRNA'])\n",
    "\n",
    "# Combine results into a single dataframe\n",
    "result = pd.DataFrame({\n",
    "    'processes_ntRNA': processes['ntRNA'],\n",
    "    'processes_rbRNA': processes['rbRNA'], \n",
    "    'processes_TE': processes['TE'],\n",
    "    'somata_ntRNA': somata['ntRNA'],\n",
    "    'somata_rbRNA': somata['rbRNA'],\n",
    "    'somata_TE': somata['TE']\n",
    "})\n",
    "\n",
    "result"
   ]
  },
  {
   "cell_type": "code",
   "execution_count": null,
   "metadata": {},
   "outputs": [],
   "source": [
    "# Calculate TE difference between somata and processes\n",
    "result['TE_diff'] = result['somata_TE'] - result['processes_TE']\n",
    "result"
   ]
  },
  {
   "cell_type": "code",
   "execution_count": null,
   "metadata": {},
   "outputs": [],
   "source": [
    "# Calculate processes percentage\n",
    "result['processes%'] = (result['processes_ntRNA'] + result['processes_rbRNA']) / (\n",
    "    result['processes_ntRNA'] + result['processes_rbRNA'] + \n",
    "    result['somata_ntRNA'] + result['somata_rbRNA']\n",
    ")\n",
    "\n",
    "result"
   ]
  },
  {
   "cell_type": "code",
   "execution_count": null,
   "metadata": {},
   "outputs": [],
   "source": [
    "# Add rank columns for TE_diff and processes%\n",
    "result['TE_diff_rank'] = result['TE_diff'].rank(ascending=False).astype(int)\n",
    "result['processes%_rank'] = result['processes%'].rank(ascending=False).astype(int)\n",
    "result"
   ]
  },
  {
   "cell_type": "code",
   "execution_count": 1,
   "metadata": {},
   "outputs": [],
   "source": [
    "import pandas as pd\n",
    "\n",
    "# 读入soma_process_eachgene_all_0503.csv\n",
    "df = pd.read_csv('soma_process_eachgene_all_0503.csv', index_col=0)\n"
   ]
  },
  {
   "cell_type": "code",
   "execution_count": null,
   "metadata": {},
   "outputs": [],
   "source": [
    "import numpy as np\n",
    "df['fc'] = df['processes_TE'] / df['somata_TE']\n",
    "df['log2fc'] = np.log2(df['fc'])\n",
    "df"
   ]
  },
  {
   "cell_type": "code",
   "execution_count": null,
   "metadata": {},
   "outputs": [],
   "source": [
    "# Add a column for somata_TE/processes_TE ratio\n",
    "result['fc'] = result['somata_TE'] / result['processes_TE']\n",
    "result['log2fc'] = np.log2(result['fc'])\n",
    "result"
   ]
  },
  {
   "cell_type": "code",
   "execution_count": 6,
   "metadata": {},
   "outputs": [],
   "source": [
    "df.to_csv('soma_process_eachgene_all_0503.csv')"
   ]
  },
  {
   "cell_type": "code",
   "execution_count": 9,
   "metadata": {},
   "outputs": [],
   "source": [
    "import pandas as pd\n",
    "\n",
    "df = pd.read_csv('soma_process_eachgene_all_0503.csv', index_col=0)\n",
    "\n",
    "df_fdr = pd.read_csv('gene_TE_comparison_results_with_FDR_all0503.csv')\n",
    "\n",
    "df_fdr = df_fdr.set_index('gene')\n",
    "\n",
    "df['adj_pvalue'] = df_fdr.loc[df.index, 'adj_pvalue']\n",
    "df['significant'] = df_fdr.loc[df.index, 'significant']\n",
    "\n",
    "df.to_csv('eachgenefinal_all0503.csv')\n"
   ]
  }
 ],
 "metadata": {
  "kernelspec": {
   "display_name": "bigfish_env",
   "language": "python",
   "name": "python3"
  },
  "language_info": {
   "codemirror_mode": {
    "name": "ipython",
    "version": 3
   },
   "file_extension": ".py",
   "mimetype": "text/x-python",
   "name": "python",
   "nbconvert_exporter": "python",
   "pygments_lexer": "ipython3",
   "version": "3.9.19"
  }
 },
 "nbformat": 4,
 "nbformat_minor": 2
}
