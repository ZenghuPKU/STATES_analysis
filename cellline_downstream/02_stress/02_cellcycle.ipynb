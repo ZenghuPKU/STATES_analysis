{
 "cells": [
  {
   "cell_type": "code",
   "execution_count": 1,
   "metadata": {},
   "outputs": [],
   "source": [
    "import numpy as np\n",
    "import pandas as pd\n",
    "import anndata\n",
    "import matplotlib.pyplot as plt\n",
    "import spatialdata as sd\n",
    "import scanpy as sc"
   ]
  },
  {
   "cell_type": "code",
   "execution_count": null,
   "metadata": {},
   "outputs": [],
   "source": [
    "adata = sc.read_h5ad('filtered_data.h5ad')\n",
    "adata"
   ]
  },
  {
   "cell_type": "code",
   "execution_count": 6,
   "metadata": {},
   "outputs": [],
   "source": [
    "genes = adata.var.index"
   ]
  },
  {
   "cell_type": "code",
   "execution_count": 7,
   "metadata": {},
   "outputs": [],
   "source": [
    "cell_cycle_genes = [x.strip() for x in open('scanpy.txt')]"
   ]
  },
  {
   "cell_type": "code",
   "execution_count": 8,
   "metadata": {},
   "outputs": [],
   "source": [
    "s_genes = cell_cycle_genes[:43]\n",
    "g2m_genes = cell_cycle_genes[43:]"
   ]
  },
  {
   "cell_type": "code",
   "execution_count": null,
   "metadata": {},
   "outputs": [],
   "source": [
    "# Get cell cycle genes \n",
    "missed_genes = [x for x in cell_cycle_genes if x not in adata.var_names]\n",
    "cell_cycle_genes = [x for x in cell_cycle_genes if x in adata.var_names]\n",
    "s_genes_true = [x for x in s_genes if x in adata.var_names]\n",
    "g2m_genes_true = [x for x in g2m_genes if x in adata.var_names]\n",
    "\n",
    "print('cell cycle genes: ', len(cell_cycle_genes), '\\nmissed genes: ', len(missed_genes))\n",
    "print(f\"G1/S genes: {len(s_genes)} - G2/M genes: {len(g2m_genes)}\")\n",
    "print(f\"G1/S genes in our dataest: {len(s_genes_true)} - G2/M genes in our dataest: {len(g2m_genes_true)}\")"
   ]
  },
  {
   "cell_type": "code",
   "execution_count": null,
   "metadata": {},
   "outputs": [],
   "source": [
    "missed_genes"
   ]
  },
  {
   "cell_type": "code",
   "execution_count": 11,
   "metadata": {},
   "outputs": [],
   "source": [
    "adata_cc = adata.copy()\n",
    "sc.pp.normalize_total(adata_cc)\n",
    "sc.pp.log1p(adata_cc)\n",
    "sc.pp.scale(adata_cc)\n",
    "sc.tl.score_genes_cell_cycle(adata_cc, s_genes=s_genes_true, g2m_genes=g2m_genes_true)\n"
   ]
  },
  {
   "cell_type": "code",
   "execution_count": 14,
   "metadata": {},
   "outputs": [],
   "source": [
    "adata.obs['phase'] = adata_cc.obs['phase']\n",
    "adata.obs['S_score'] = adata_cc.obs['S_score']\n",
    "adata.obs['G2M_score'] = adata_cc.obs['G2M_score']"
   ]
  },
  {
   "cell_type": "code",
   "execution_count": null,
   "metadata": {},
   "outputs": [],
   "source": [
    "# Calculate cell cycle phase proportions for each sample\n",
    "phase_proportions = pd.crosstab(adata.obs['sample'], adata.obs['phase'], normalize='index') * 100\n",
    "\n",
    "# Reorder samples from control to increasing Tg time and simplify sample names\n",
    "sample_order = ['C3control', 'B4Tg15min', 'B5Tg30min', 'B6Tg1h', 'C4Tg2h', 'C5Tg4h']\n",
    "simplified_names = ['Control', 'Tg15min', 'Tg30min', 'Tg1h', 'Tg2h', 'Tg4h']\n",
    "phase_proportions = phase_proportions.reindex(sample_order)\n",
    "phase_proportions.index = simplified_names\n",
    "\n",
    "# Define colors for each cell cycle phase\n",
    "colors = ['#1f77b4', '#ff7f0e', '#2ca02c']  # G1, G2M, S\n",
    "\n",
    "# Create stacked bar plot\n",
    "plt.figure(figsize=(10, 6))\n",
    "phase_proportions.plot(kind='bar', stacked=True, color=colors, width=0.8)  # Increased bar width\n",
    "plt.title('Cell Cycle Phase Distribution by Sample', pad=20, fontsize=12)\n",
    "plt.ylabel('Percentage (%)', fontsize=10)\n",
    "plt.xticks(rotation=45)  # Rotate labels 45 degrees\n",
    "plt.legend(title='Cell Cycle Phase', bbox_to_anchor=(1.05, 1), loc='upper left')\n",
    "plt.tight_layout()\n",
    "\n",
    "# Print the numerical values\n",
    "print(\"\\nCell cycle phase proportions (%) by sample:\")\n",
    "print(phase_proportions.round(2))"
   ]
  },
  {
   "cell_type": "code",
   "execution_count": 16,
   "metadata": {},
   "outputs": [],
   "source": [
    "adata_cc = adata_cc[adata_cc.obs['pass_all_filters'], cell_cycle_genes]"
   ]
  },
  {
   "cell_type": "code",
   "execution_count": null,
   "metadata": {},
   "outputs": [],
   "source": [
    "# PCA \n",
    "sc.tl.pca(adata_cc)\n",
    "\n",
    "plt.figure(figsize=(8, 6))\n",
    "\n",
    "# Print the color mapping for phases\n",
    "print(\"Phase colors:\")\n",
    "for phase, color in zip(adata_cc.obs['phase'].unique(), adata_cc.uns['phase_colors']):\n",
    "    print(f\"{phase}: {color}\")\n",
    "\n",
    "sc.pl.pca_scatter(\n",
    "    adata_cc,\n",
    "    color=\"phase\", \n",
    "    title=\"PCA by cell cycle genes\",\n",
    "    size=50,\n",
    "    show=False  \n",
    ")\n",
    "\n",
    "plt.tight_layout()  \n",
    "plt.show()"
   ]
  },
  {
   "cell_type": "code",
   "execution_count": 6,
   "metadata": {},
   "outputs": [],
   "source": [
    "adata.write_h5ad('cellcyclescore.h5ad')"
   ]
  }
 ],
 "metadata": {
  "kernelspec": {
   "display_name": "bigfish_env",
   "language": "python",
   "name": "python3"
  },
  "language_info": {
   "codemirror_mode": {
    "name": "ipython",
    "version": 3
   },
   "file_extension": ".py",
   "mimetype": "text/x-python",
   "name": "python",
   "nbconvert_exporter": "python",
   "pygments_lexer": "ipython3",
   "version": "3.9.19"
  }
 },
 "nbformat": 4,
 "nbformat_minor": 2
}
