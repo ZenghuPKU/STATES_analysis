{
 "cells": [
  {
   "cell_type": "code",
   "execution_count": 1,
   "metadata": {},
   "outputs": [],
   "source": [
    "import scanpy as sc\n",
    "\n",
    "dr = sc.read_h5ad('/storage/lingyuan2/STATES_data/withDR.h5ad')\n"
   ]
  },
  {
   "cell_type": "code",
   "execution_count": null,
   "metadata": {},
   "outputs": [],
   "source": [
    "# Filter for C3control cells and create new AnnData object\n",
    "dr_c3 = dr[dr.obs['sample'] == 'C3control'].copy()\n",
    "dr_c3"
   ]
  },
  {
   "cell_type": "code",
   "execution_count": 3,
   "metadata": {},
   "outputs": [],
   "source": [
    "import numpy as np\n",
    "import scanpy as sc\n",
    "\n",
    "gene_pass_counts = np.sum(dr_c3.X >= 2, axis=0)\n",
    "min_cells = int(0.1 * dr_c3.n_obs)\n",
    "if isinstance(gene_pass_counts, np.matrix):\n",
    "    gene_pass_counts = np.asarray(gene_pass_counts).squeeze()\n",
    "gene_filter = gene_pass_counts >= min_cells\n",
    "dr_c3 = dr_c3[:, gene_filter].copy()\n"
   ]
  },
  {
   "cell_type": "code",
   "execution_count": null,
   "metadata": {},
   "outputs": [],
   "source": [
    "points_df = dr_c3.uns['points_df']\n",
    "genes_to_filter = ['ADGRL2', 'BATF3', 'BBS10', 'BLOC1S3', 'CEBPD', 'CENPO', 'CHAF1B', 'DEPDC7', 'EIF4EBP2', 'ENPP4', 'GATA2', 'GOLPH3L', 'LAMTOR3', 'NOL6', 'PLPP5', 'QPRT', 'RARS1', 'SESN3', 'SLC35C1', 'STEAP2', 'TPRA1', 'TTI1', 'UBP1', 'VPS13D', 'VSIG10', 'VWA8', 'XAB2', 'ZNF335']\n",
    "filtered_points_df = points_df[~points_df['gene'].isin(genes_to_filter)]\n",
    "filtered_points_df"
   ]
  },
  {
   "cell_type": "code",
   "execution_count": null,
   "metadata": {},
   "outputs": [],
   "source": [
    "filtered_points_df_control = filtered_points_df[filtered_points_df['condition'] == 'Control']\n",
    "filtered_points_df_control"
   ]
  },
  {
   "cell_type": "code",
   "execution_count": 6,
   "metadata": {},
   "outputs": [],
   "source": [
    "# Only keep genes that are in dr_c3.var.index\n",
    "filtered_points_df_control = filtered_points_df_control[filtered_points_df_control['gene'].isin(dr_c3.var.index)]\n"
   ]
  },
  {
   "cell_type": "code",
   "execution_count": null,
   "metadata": {},
   "outputs": [],
   "source": [
    "print(\"Number of unique genes:\", filtered_points_df_control['gene'].nunique())"
   ]
  },
  {
   "cell_type": "code",
   "execution_count": null,
   "metadata": {},
   "outputs": [],
   "source": [
    "filtered_points_df_control['group'] = filtered_points_df_control['feature_name'].str.split('_').str[-1]\n",
    "filtered_points_df_control"
   ]
  },
  {
   "cell_type": "code",
   "execution_count": 11,
   "metadata": {},
   "outputs": [],
   "source": [
    "import pandas as pd\n",
    "import numpy as np\n",
    "\n",
    "# Define DR bins\n",
    "bins = [0, 0.33, 0.66, 1.0]\n",
    "\n",
    "# Calculate TE for each gene in each DR bin\n",
    "results = []\n",
    "for gene, gene_data in filtered_points_df_control.groupby('gene'):\n",
    "    # Bin DR values\n",
    "    gene_data['DR_bin'] = pd.cut(gene_data['DR'], bins=bins, include_lowest=True, right=False)\n",
    "    \n",
    "    # Calculate TE for each bin\n",
    "    for bin_range, bin_data in gene_data.groupby('DR_bin'):\n",
    "        # Count rbRNA and ntRNA points\n",
    "        rbRNA_counts = bin_data[bin_data['group'] == 'rbRNA'].shape[0]\n",
    "        ntRNA_counts = bin_data[bin_data['group'] == 'ntRNA'].shape[0]\n",
    "        \n",
    "        # Calculate TE\n",
    "        if (rbRNA_counts + ntRNA_counts) > 0:\n",
    "            te = rbRNA_counts / (rbRNA_counts + ntRNA_counts)\n",
    "        else:\n",
    "            te = np.nan\n",
    "            \n",
    "        results.append({\n",
    "            'gene': gene,\n",
    "            'DR_bin': bin_range,\n",
    "            'TE': te,\n",
    "            'rbRNA_counts': rbRNA_counts,\n",
    "            'ntRNA_counts': ntRNA_counts\n",
    "        })\n",
    "\n",
    "# Create DataFrame with results\n",
    "te_by_dr_bin_gene = pd.DataFrame(results)\n"
   ]
  },
  {
   "cell_type": "code",
   "execution_count": null,
   "metadata": {},
   "outputs": [],
   "source": [
    "te_by_dr_bin_gene.to_csv('/storage/lingyuan2/STATES_data/te_by_dr_bin_gene_control1021_3bin.csv')\n",
    "te_by_dr_bin_gene"
   ]
  }
 ],
 "metadata": {
  "kernelspec": {
   "display_name": "bigfish_env",
   "language": "python",
   "name": "python3"
  },
  "language_info": {
   "codemirror_mode": {
    "name": "ipython",
    "version": 3
   },
   "file_extension": ".py",
   "mimetype": "text/x-python",
   "name": "python",
   "nbconvert_exporter": "python",
   "pygments_lexer": "ipython3",
   "version": "3.9.19"
  }
 },
 "nbformat": 4,
 "nbformat_minor": 2
}
