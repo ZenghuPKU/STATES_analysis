{
 "cells": [
  {
   "cell_type": "code",
   "execution_count": 1,
   "metadata": {},
   "outputs": [],
   "source": [
    "import scanpy as sc\n",
    "\n",
    "dr = sc.read_h5ad('/storage/lingyuan2/STATES_data/withDR.h5ad')\n"
   ]
  },
  {
   "cell_type": "code",
   "execution_count": null,
   "metadata": {},
   "outputs": [],
   "source": [
    "points_df = dr.uns['points_df']\n",
    "points_df['group'] = points_df['feature_name'].str.split('_').str[-1]\n",
    "points_df"
   ]
  },
  {
   "cell_type": "code",
   "execution_count": null,
   "metadata": {},
   "outputs": [],
   "source": [
    "import pandas as pd\n",
    "import numpy as np\n",
    "\n",
    "bins = [0, 0.33, 0.66, 1.0]\n",
    "\n",
    "results = []\n",
    "for cell_idx, cell_data in points_df.groupby('cell_idx'):\n",
    "    cell_data['DR_bin'] = pd.cut(cell_data['DR'], bins=bins, include_lowest=True, right=False)\n",
    "    for bin_range, bin_data in cell_data.groupby('DR_bin'):\n",
    "        rbRNA_counts = bin_data[bin_data['group'] == 'rbRNA'].shape[0]\n",
    "        ntRNA_counts = bin_data[bin_data['group'] == 'ntRNA'].shape[0]\n",
    "        if (rbRNA_counts + ntRNA_counts) > 0:\n",
    "            te = rbRNA_counts / (rbRNA_counts + ntRNA_counts)\n",
    "        else:\n",
    "            te = np.nan\n",
    "        results.append({\n",
    "            'cell_idx': cell_idx,\n",
    "            'DR_bin': bin_range,\n",
    "            'TE': te,\n",
    "            'rbRNA_counts': rbRNA_counts,\n",
    "            'ntRNA_counts': ntRNA_counts\n",
    "        })\n",
    "\n",
    "te_by_dr_bin = pd.DataFrame(results)\n",
    "te_by_dr_bin"
   ]
  },
  {
   "cell_type": "code",
   "execution_count": null,
   "metadata": {},
   "outputs": [],
   "source": [
    "te_by_dr_bin.to_csv('/storage/lingyuan2/STATES_data/te_by_dr_bin_cell.csv', index=False)\n",
    "te_by_dr_bin"
   ]
  }
 ],
 "metadata": {
  "kernelspec": {
   "display_name": "bigfish_env",
   "language": "python",
   "name": "python3"
  },
  "language_info": {
   "codemirror_mode": {
    "name": "ipython",
    "version": 3
   },
   "file_extension": ".py",
   "mimetype": "text/x-python",
   "name": "python",
   "nbconvert_exporter": "python",
   "pygments_lexer": "ipython3",
   "version": "3.9.19"
  }
 },
 "nbformat": 4,
 "nbformat_minor": 2
}
