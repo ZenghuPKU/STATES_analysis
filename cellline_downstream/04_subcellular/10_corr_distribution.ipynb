{
 "cells": [
  {
   "cell_type": "code",
   "execution_count": 17,
   "metadata": {},
   "outputs": [],
   "source": [
    "import scanpy as sc\n",
    "\n",
    "dr = sc.read_h5ad('/storage/lingyuan2/STATES_data/withDR.h5ad')\n"
   ]
  },
  {
   "cell_type": "code",
   "execution_count": null,
   "metadata": {},
   "outputs": [],
   "source": [
    "points_df = dr.uns['points_df']\n",
    "genes_to_filter = ['ADGRL2', 'BATF3', 'BBS10', 'BLOC1S3', 'CEBPD', 'CENPO', 'CHAF1B', 'DEPDC7', 'EIF4EBP2', 'ENPP4', 'GATA2', 'GOLPH3L', 'LAMTOR3', 'NOL6', 'PLPP5', 'QPRT', 'RARS1', 'SESN3', 'SLC35C1', 'STEAP2', 'TPRA1', 'TTI1', 'UBP1', 'VPS13D', 'VSIG10', 'VWA8', 'XAB2', 'ZNF335']\n",
    "points_df = points_df[~points_df['gene'].isin(genes_to_filter)]\n",
    "points_df"
   ]
  },
  {
   "cell_type": "code",
   "execution_count": null,
   "metadata": {},
   "outputs": [],
   "source": [
    "points_df['group'] = points_df['feature_name'].str.split('_').str[-1]\n"
   ]
  },
  {
   "cell_type": "code",
   "execution_count": null,
   "metadata": {},
   "outputs": [],
   "source": [
    "# Group by gene and condition, then count ntRNA and rbRNA occurrences\n",
    "gene_counts = points_df.groupby(['gene', 'condition', 'group']).size().unstack(fill_value=0)\n",
    "\n",
    "gene_counts = gene_counts[['ntRNA', 'rbRNA']]\n",
    "\n",
    "gene_counts = gene_counts.rename(columns={\n",
    "    'ntRNA': 'ntRNA_count',\n",
    "    'rbRNA': 'rbRNA_count'\n",
    "})\n",
    "\n",
    "gene_counts = gene_counts.reset_index()\n",
    "\n",
    "gene_counts\n",
    "\n"
   ]
  },
  {
   "cell_type": "code",
   "execution_count": null,
   "metadata": {},
   "outputs": [],
   "source": [
    "gene_counts['TE'] = gene_counts['rbRNA_count'] / (gene_counts['rbRNA_count'] + gene_counts['ntRNA_count'])\n",
    "gene_counts"
   ]
  },
  {
   "cell_type": "code",
   "execution_count": 8,
   "metadata": {},
   "outputs": [],
   "source": [
    "# Calculate mean DR for each gene-condition combination\n",
    "mean_dr = points_df.groupby(['gene', 'condition'])['DR'].mean().reset_index()\n",
    "mean_dr = mean_dr.rename(columns={'DR': 'mean_DR'})\n",
    "\n",
    "# Merge with gene_counts dataframe\n",
    "gene_counts = gene_counts.merge(mean_dr, on=['gene', 'condition'], how='left')\n"
   ]
  },
  {
   "cell_type": "code",
   "execution_count": null,
   "metadata": {},
   "outputs": [],
   "source": [
    "gene_counts"
   ]
  },
  {
   "cell_type": "code",
   "execution_count": 33,
   "metadata": {},
   "outputs": [],
   "source": [
    "gene_counts.to_csv('gene_counts.csv')"
   ]
  },
  {
   "cell_type": "code",
   "execution_count": null,
   "metadata": {},
   "outputs": [],
   "source": [
    "import pandas as pd\n",
    "from scipy.stats import pearsonr\n",
    "\n",
    "# Initialize empty list to store correlation results\n",
    "results = []\n",
    "\n",
    "# Get unique genes\n",
    "unique_genes = gene_counts['gene'].unique()\n",
    "\n",
    "# Calculate correlation for each gene\n",
    "for gene in unique_genes:\n",
    "    gene_data = gene_counts[gene_counts['gene'] == gene]\n",
    "    \n",
    "    # Only calculate correlation if there are multiple data points\n",
    "    if len(gene_data) > 1:\n",
    "        corr, pval = pearsonr(gene_data['TE'], gene_data['mean_DR'])\n",
    "        results.append({\n",
    "            'gene': gene,\n",
    "            'corr': corr,\n",
    "            'pval': pval\n",
    "        })\n",
    "\n",
    "# Convert list of results to DataFrame\n",
    "corr_results = pd.DataFrame(results)\n",
    "\n",
    "# Display the correlation results\n",
    "corr_results\n"
   ]
  },
  {
   "cell_type": "code",
   "execution_count": 11,
   "metadata": {},
   "outputs": [],
   "source": [
    "# Pivot gene_counts to get TE and mean_DR for each condition\n",
    "te_pivot = gene_counts.pivot(index='gene', columns='condition', values='TE')\n",
    "dr_pivot = gene_counts.pivot(index='gene', columns='condition', values='mean_DR')\n",
    "\n",
    "# Rename columns to include condition\n",
    "te_pivot = te_pivot.add_prefix('TE_')\n",
    "dr_pivot = dr_pivot.add_prefix('mean_DR_')\n",
    "\n",
    "# Merge with corr_results\n",
    "corr_results = corr_results.merge(te_pivot, on='gene', how='left')\n",
    "corr_results = corr_results.merge(dr_pivot, on='gene', how='left')\n"
   ]
  },
  {
   "cell_type": "code",
   "execution_count": null,
   "metadata": {},
   "outputs": [],
   "source": [
    "corr_results"
   ]
  },
  {
   "cell_type": "code",
   "execution_count": 13,
   "metadata": {},
   "outputs": [],
   "source": [
    "corr_results.to_csv('/storage/lingyuan2/STATES_data/corr.csv')"
   ]
  },
  {
   "cell_type": "code",
   "execution_count": null,
   "metadata": {},
   "outputs": [],
   "source": [
    "# Read the control file with gene list\n",
    "control_genes = pd.read_csv('/storage/lingyuan2/STATES_data/te_by_dr_bin_gene_control1021_3bin.csv')['gene'].unique()\n",
    "\n",
    "# Filter corr_results to only include genes present in control file\n",
    "filtered_corr_results = corr_results[corr_results['gene'].isin(control_genes)]\n",
    "filtered_corr_results"
   ]
  },
  {
   "cell_type": "code",
   "execution_count": null,
   "metadata": {},
   "outputs": [],
   "source": [
    "import seaborn as sns\n",
    "import numpy as np\n",
    "import matplotlib.pyplot as plt\n",
    "plt.rcParams['svg.fonttype'] = 'none'\n",
    "plt.figure(figsize=(4, 3))\n",
    "ax = sns.histplot(filtered_corr_results['corr'], bins=50, kde=True, edgecolor=None, alpha=0.3)\n",
    "ymin, ymax = ax.get_ylim()\n",
    "from matplotlib import transforms\n",
    "\n",
    "highlight_genes = ['PXDN', 'SLC16A1', 'CALR', 'EIF1', 'GNL3', 'SLC3A2']\n",
    "highlight_color = 'red'\n",
    "highlight_corrs = {}\n",
    "for gene in highlight_genes:\n",
    "    corr_val = filtered_corr_results.loc[filtered_corr_results['gene'] == gene, 'corr']\n",
    "    highlight_corrs[gene] = corr_val.values[0] if not corr_val.empty else None\n",
    "\n",
    "for idx, value in enumerate(filtered_corr_results['corr']):\n",
    "    if any(corr_val is not None and value == corr_val for corr_val in highlight_corrs.values()):\n",
    "        continue\n",
    "    ax.plot([value, value], [-ymax*0.05, 0], color=\"gray\", alpha=0.5, linewidth=0.1, zorder=2)\n",
    "\n",
    "for gene in highlight_genes:\n",
    "    corr_val = highlight_corrs[gene]\n",
    "    if corr_val is not None:\n",
    "        ax.plot([corr_val, corr_val], [-ymax*0.05, 0], color=highlight_color, alpha=1, linewidth=0.5, label=gene, zorder=3)\n",
    "\n",
    "ax.axhline(0, color='black', linewidth=1, linestyle='-', zorder=1)\n",
    "\n",
    "ax.set_ylim(-ymax*0.05, ymax)\n",
    "plt.title('Distribution of Significant Correlations')\n",
    "plt.xlabel('Correlation Coefficient')\n",
    "plt.ylabel('Frequency')\n",
    "plt.grid(False)\n",
    "handles, labels = ax.get_legend_handles_labels()\n",
    "shown = set()\n",
    "new_handles = []\n",
    "new_labels = []\n",
    "for h, l in zip(handles, labels):\n",
    "    if l in highlight_genes and l not in shown:\n",
    "        new_handles.append(h)\n",
    "        new_labels.append(l)\n",
    "        shown.add(l)\n",
    "if new_handles:\n",
    "    ax.legend(new_handles, new_labels)\n",
    "#plt.savefig('corr_distribution_1021.svg', format='svg')\n",
    "plt.show()\n"
   ]
  },
  {
   "cell_type": "code",
   "execution_count": null,
   "metadata": {},
   "outputs": [],
   "source": [
    "import matplotlib.pyplot as plt\n",
    "import numpy as np\n",
    "plt.rcParams['svg.fonttype'] = 'none'\n",
    "\n",
    "# Filter for SLC16A1 gene\n",
    "aak1_data = gene_counts[gene_counts['gene'] == 'SLC16A1']\n",
    "\n",
    "# Calculate correlation between TE and mean_DR\n",
    "corr, pval = pearsonr(aak1_data['TE'], aak1_data['mean_DR'])\n",
    "\n",
    "# Print the correlation results\n",
    "print(f\"Correlation between TE and mean_DR for SLC16A1 across conditions:\")\n",
    "print(f\"Pearson r = {corr:.4f}, p-value = {pval:.4f}\")\n",
    "\n",
    "# Plot the relationship\n",
    "plt.figure(figsize=(2, 2))\n",
    "plt.scatter(aak1_data['mean_DR'], aak1_data['TE'])\n",
    "\n",
    "# Add regression line\n",
    "m, b = np.polyfit(aak1_data['mean_DR'], aak1_data['TE'], 1)\n",
    "plt.plot(aak1_data['mean_DR'], m*aak1_data['mean_DR'] + b, color='red')\n",
    "plt.title(f'TE vs mean_DR for SLC16A1 across conditions\\nr = {corr:.4f}, p = {pval:.4f}')\n",
    "plt.xlabel('mean_DR')\n",
    "plt.ylabel('TE')\n",
    "plt.legend()\n",
    "#plt.savefig('SLC16A1_corr.svg', format='svg')\n",
    "plt.show()\n"
   ]
  }
 ],
 "metadata": {
  "kernelspec": {
   "display_name": "bigfish_env",
   "language": "python",
   "name": "python3"
  },
  "language_info": {
   "codemirror_mode": {
    "name": "ipython",
    "version": 3
   },
   "file_extension": ".py",
   "mimetype": "text/x-python",
   "name": "python",
   "nbconvert_exporter": "python",
   "pygments_lexer": "ipython3",
   "version": "3.9.19"
  }
 },
 "nbformat": 4,
 "nbformat_minor": 2
}
