{
 "cells": [
  {
   "cell_type": "code",
   "execution_count": 5,
   "metadata": {},
   "outputs": [],
   "source": [
    "import scanpy as sc\n",
    "\n",
    "dr = sc.read_h5ad('withDR.h5ad')\n"
   ]
  },
  {
   "cell_type": "code",
   "execution_count": null,
   "metadata": {},
   "outputs": [],
   "source": [
    "# Filter for C3control cells and create new AnnData object\n",
    "dr_c3 = dr[dr.obs['sample'] == 'C3control'].copy()\n",
    "dr_c3"
   ]
  },
  {
   "cell_type": "code",
   "execution_count": 7,
   "metadata": {},
   "outputs": [],
   "source": [
    "import numpy as np\n",
    "import scanpy as sc\n",
    "\n",
    "gene_pass_counts = np.sum(dr_c3.X >= 2, axis=0)\n",
    "min_cells = int(0.1 * dr_c3.n_obs)\n",
    "if isinstance(gene_pass_counts, np.matrix):\n",
    "    gene_pass_counts = np.asarray(gene_pass_counts).squeeze()\n",
    "gene_filter = gene_pass_counts >= min_cells\n",
    "dr_c3 = dr_c3[:, gene_filter].copy()\n"
   ]
  },
  {
   "cell_type": "code",
   "execution_count": null,
   "metadata": {},
   "outputs": [],
   "source": [
    "points_df = dr_c3.uns['points_df']\n",
    "genes_to_filter = ['ADGRL2', 'BATF3', 'BBS10', 'BLOC1S3', 'CEBPD', 'CENPO', 'CHAF1B', 'DEPDC7', 'EIF4EBP2', 'ENPP4', 'GATA2', 'GOLPH3L', 'LAMTOR3', 'NOL6', 'PLPP5', 'QPRT', 'RARS1', 'SESN3', 'SLC35C1', 'STEAP2', 'TPRA1', 'TTI1', 'UBP1', 'VPS13D', 'VSIG10', 'VWA8', 'XAB2', 'ZNF335']\n",
    "filtered_points_df = points_df[~points_df['gene'].isin(genes_to_filter)]\n",
    "filtered_points_df"
   ]
  },
  {
   "cell_type": "code",
   "execution_count": null,
   "metadata": {},
   "outputs": [],
   "source": [
    "filtered_points_df_control = filtered_points_df[filtered_points_df['condition'] == 'Control']\n",
    "filtered_points_df_control"
   ]
  },
  {
   "cell_type": "code",
   "execution_count": 11,
   "metadata": {},
   "outputs": [],
   "source": [
    "filtered_points_df_control = filtered_points_df_control[filtered_points_df_control['gene'].isin(dr_c3.var.index)]\n"
   ]
  },
  {
   "cell_type": "code",
   "execution_count": null,
   "metadata": {},
   "outputs": [],
   "source": [
    "import spatialdata as sd\n",
    "import json\n",
    "\n",
    "Control = sd.read_zarr('cellline0101_C3control_2d_dr.zarr')\n",
    "\n"
   ]
  },
  {
   "cell_type": "code",
   "execution_count": 14,
   "metadata": {},
   "outputs": [],
   "source": [
    "import pandas as pd\n",
    "points_df_Control = pd.DataFrame(filtered_points_df_control)\n",
    "nucleusShapeControl = Control.shapes['nucleus_boundaries']['geometry']\n",
    "nucleusShapeControl = nucleusShapeControl.astype(object)\n",
    "cellShapeControl = Control.shapes['cell_boundaries']['geometry']\n",
    "cellShapeControl = cellShapeControl.astype(object)"
   ]
  },
  {
   "cell_type": "code",
   "execution_count": 17,
   "metadata": {},
   "outputs": [],
   "source": [
    "import pandas as pd\n",
    "import numpy as np\n",
    "import matplotlib.pyplot as plt\n",
    "from shapely.geometry import Point\n",
    "\n",
    "def plot_cells_in_region_with_genes(xmin, xmax, ymin, ymax, gene_list, ax):\n",
    "    for cell_id in range(len(cellShapeControl)):\n",
    "        cell_shape = cellShapeControl.iloc[cell_id]\n",
    "        if not cell_shape.bounds[0] > xmax and not cell_shape.bounds[2] < xmin and \\\n",
    "           not cell_shape.bounds[1] > ymax and not cell_shape.bounds[3] < ymin:\n",
    "\n",
    "            nucleus_shape = nucleusShapeControl.iloc[cell_id]\n",
    "\n",
    "            # Plot cell and nucleus boundaries\n",
    "            x, y = cell_shape.exterior.xy\n",
    "            ax.plot(x, y, 'k-', linewidth=1)\n",
    "\n",
    "            # Plot interior contours\n",
    "            for contour in cell_shape.interiors:\n",
    "                x, y = contour.xy\n",
    "                ax.plot(x, y, 'gray', linewidth=5)\n",
    "\n",
    "            # Plot nucleus with light blue fill\n",
    "            x, y = nucleus_shape.exterior.xy\n",
    "            ax.plot(x, y, '#969696', linewidth=1)\n",
    "            ax.fill(x, y, color='#969696', alpha=0.5)\n",
    "\n",
    "            # Filter points for this cell\n",
    "            cell_points = points_df_Control[(points_df_Control['cell'] == cell_id) & \n",
    "                                            (points_df_Control['nuclei'] == 0)]\n",
    "\n",
    "            for gene in gene_list:\n",
    "                rb_points = cell_points[cell_points['feature_name'] == f\"{gene}_rbRNA\"]\n",
    "                nt_points = cell_points[cell_points['feature_name'] == f\"{gene}_ntRNA\"]\n",
    "\n",
    "                if not rb_points.empty:\n",
    "                    ax.scatter(rb_points['x'], rb_points['y'], c='red', s=20, marker='o', label=f'{gene}_rbRNA', alpha=1)\n",
    "\n",
    "                if not nt_points.empty:\n",
    "                    ax.scatter(nt_points['x'], nt_points['y'], c='blue', s=20, marker='o', label=f'{gene}_ntRNA', alpha=1)\n",
    "\n",
    "            # Draw distance ratio contours\n",
    "            ratios = [0.33, 0.66]\n",
    "            styles = ['--', '--']\n",
    "            colors = ['gray', 'gray']\n",
    "\n",
    "            nucleus_boundary = nucleus_shape.boundary\n",
    "            cell_boundary = cell_shape.boundary\n",
    "\n",
    "            theta = np.linspace(0, 2*np.pi, 100)\n",
    "            for ratio, style, color in zip(ratios, styles, colors):\n",
    "                contour_points = []\n",
    "                for t in theta:\n",
    "                    r_min = 0\n",
    "                    r_max = max(cell_shape.bounds[2] - cell_shape.bounds[0], \n",
    "                                cell_shape.bounds[3] - cell_shape.bounds[1])\n",
    "                    \n",
    "                    while r_max - r_min > 0.1:\n",
    "                        r = (r_min + r_max) / 2\n",
    "                        x = nucleus_boundary.centroid.x + r * np.cos(t)\n",
    "                        y = nucleus_boundary.centroid.y + r * np.sin(t)\n",
    "                        point = Point(x, y)\n",
    "\n",
    "                        if cell_shape.contains(point) and not nucleus_shape.contains(point):\n",
    "                            dn = point.distance(nucleus_boundary)\n",
    "                            dc = point.distance(cell_boundary)\n",
    "                            current_ratio = dn / (dn + dc)\n",
    "\n",
    "                            if abs(current_ratio - ratio) < 0.01:\n",
    "                                contour_points.append((x, y))\n",
    "                                break\n",
    "                            elif current_ratio < ratio:\n",
    "                                r_min = r\n",
    "                            else:\n",
    "                                r_max = r\n",
    "                        else:\n",
    "                            if nucleus_shape.contains(point):\n",
    "                                r_min = r\n",
    "                            else:\n",
    "                                r_max = r\n",
    "                \n",
    "                if contour_points:\n",
    "                    contour_points = np.array(contour_points)\n",
    "                    ax.plot(contour_points[:,0], contour_points[:,1], style, color=color, linewidth=1)\n",
    "\n",
    "    # Add legend\n",
    "    handles = [\n",
    "        plt.Line2D([], [], color='k', linestyle='-', label='Cell boundary'),\n",
    "        plt.Line2D([], [], color='#969696', linestyle='-', label='Nucleus boundary', \n",
    "                  markerfacecolor='#969696', fillstyle='full'),\n",
    "        plt.Line2D([], [], color='gray', linestyle='--', label='Contours'),\n",
    "        plt.Line2D([], [], color='blue', marker='o', linestyle='None', label='ntRNA'),\n",
    "        plt.Line2D([], [], color='red', marker='o', linestyle='None', label='rbRNA')\n",
    "    ]\n",
    "    ax.legend(handles=handles, loc='center left', bbox_to_anchor=(1, 0.5))\n",
    "\n",
    "    ax.set_xlim(xmin, xmax)\n",
    "    ax.set_ylim(ymin, ymax)\n",
    "    ax.set_aspect('equal')\n",
    "    ax.set_xlabel('x')\n",
    "    ax.set_ylabel('y')\n",
    "    ax.axis('on')\n",
    "\n"
   ]
  },
  {
   "cell_type": "code",
   "execution_count": 18,
   "metadata": {},
   "outputs": [],
   "source": [
    "import pandas as pd\n",
    "plt.rcParams['svg.fonttype'] = 'none'\n",
    "genes_df = pd.read_csv('3bin_lower_genes0_1.csv')\n",
    "gene_list = genes_df['gene'].tolist()\n",
    "\n",
    "import os\n",
    "output_dir = \"DRdraw\"\n",
    "os.makedirs(output_dir, exist_ok=True)\n",
    "\n",
    "x_start = 5050\n",
    "x_end = 6250\n",
    "y_start = 7100\n",
    "y_end = 8000\n",
    "\n",
    "fig, ax = plt.subplots(figsize=(12, 10))\n",
    "plot_cells_in_region_with_genes(xmin=x_start, xmax=x_end, ymin=y_start, ymax=y_end, gene_list=gene_list, ax=ax)\n",
    "plt.tight_layout()\n",
    "plt.savefig(os.path.join(output_dir, f'genes136_0_1_{x_start}_{y_start}.svg'), format='svg', bbox_inches='tight')\n",
    "plt.close(fig)"
   ]
  }
 ],
 "metadata": {
  "kernelspec": {
   "display_name": "bigfish_env",
   "language": "python",
   "name": "python3"
  },
  "language_info": {
   "codemirror_mode": {
    "name": "ipython",
    "version": 3
   },
   "file_extension": ".py",
   "mimetype": "text/x-python",
   "name": "python",
   "nbconvert_exporter": "python",
   "pygments_lexer": "ipython3",
   "version": "3.9.19"
  }
 },
 "nbformat": 4,
 "nbformat_minor": 2
}
