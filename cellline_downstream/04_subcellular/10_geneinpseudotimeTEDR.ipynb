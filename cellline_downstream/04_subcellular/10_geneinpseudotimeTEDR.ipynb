{
 "cells": [
  {
   "cell_type": "code",
   "execution_count": 1,
   "metadata": {},
   "outputs": [],
   "source": [
    "import scanpy as sc\n",
    "import numpy as np\n",
    "import matplotlib.pyplot as plt\n",
    "from scipy.stats import binned_statistic\n",
    "\n",
    "adata = sc.read_h5ad('withDRpseudotime_process.h5ad')"
   ]
  },
  {
   "cell_type": "code",
   "execution_count": 6,
   "metadata": {},
   "outputs": [],
   "source": [
    "from scipy.interpolate import make_interp_spline\n",
    "plt.rcParams['svg.fonttype'] = 'none'\n",
    "\n",
    "gene = 'PXDN'\n",
    "te_data = adata[:, gene].layers['TE'].flatten()\n",
    "dr_data = adata[:, gene].layers['DR_All'].flatten()\n",
    "pseudotime = adata.obs['Pseudotime']\n",
    "n_bins = 20\n",
    "bins = np.linspace(pseudotime.min(), pseudotime.max(), n_bins + 1)\n",
    "\n",
    "te_means = np.zeros(n_bins)\n",
    "dr_means = np.zeros(n_bins)\n",
    "\n",
    "for i in range(n_bins):\n",
    "    mask = (pseudotime >= bins[i]) & (pseudotime < bins[i+1])\n",
    "    bin_cells = np.where(mask)[0]\n",
    "    if len(bin_cells) > 0:\n",
    "        te_means[i] = np.mean(te_data[bin_cells])\n",
    "        dr_means[i] = np.mean(dr_data[bin_cells])\n",
    "\n",
    "x_new = np.linspace(bins[:-1].min(), bins[:-1].max(), 300)\n",
    "te_smooth = make_interp_spline(bins[:-1], te_means)(x_new)\n",
    "dr_smooth = make_interp_spline(bins[:-1], dr_means)(x_new)\n",
    "\n",
    "fig, ax1 = plt.subplots(figsize=(4, 4))\n",
    "ax2 = ax1.twinx()\n",
    "\n",
    "ax1.set_box_aspect(1)\n",
    "ax2.set_box_aspect(1)\n",
    "\n",
    "ax1.plot(x_new, te_smooth, color='red', label='TE', linewidth=0.5)\n",
    "ax2.plot(x_new, dr_smooth, color='blue', label='TotalRNA', linewidth=0.5)\n",
    "\n",
    "ax1.set_xlabel('Pseudotime')\n",
    "ax1.set_ylabel('TE', color='red', fontsize=12)\n",
    "ax2.set_ylabel('DR', color='blue', fontsize=12)\n",
    "plt.title('PXDN Expression in Pseudotime', fontsize=14)\n",
    "\n",
    "ax1.tick_params(axis='y', labelcolor='red', labelsize=10)\n",
    "ax2.tick_params(axis='y', labelcolor='blue', labelsize=10)\n",
    "ax1.tick_params(axis='x', labelsize=10)\n",
    "\n",
    "ax1.grid(False)\n",
    "\n",
    "lines1, labels1 = ax1.get_legend_handles_labels()\n",
    "lines2, labels2 = ax2.get_legend_handles_labels()\n",
    "\n",
    "plt.tight_layout()\n",
    "plt.savefig('PXDN_expression_pseudotime.svg', format='svg')\n",
    "plt.close()\n"
   ]
  }
 ],
 "metadata": {
  "kernelspec": {
   "display_name": "bigfish_env",
   "language": "python",
   "name": "python3"
  },
  "language_info": {
   "codemirror_mode": {
    "name": "ipython",
    "version": 3
   },
   "file_extension": ".py",
   "mimetype": "text/x-python",
   "name": "python",
   "nbconvert_exporter": "python",
   "pygments_lexer": "ipython3",
   "version": "3.9.19"
  }
 },
 "nbformat": 4,
 "nbformat_minor": 2
}
