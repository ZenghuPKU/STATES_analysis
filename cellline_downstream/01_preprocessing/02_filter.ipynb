{
 "cells": [
  {
   "cell_type": "code",
   "execution_count": 1,
   "metadata": {},
   "outputs": [],
   "source": [
    "import numpy as np\n",
    "import pandas as pd\n",
    "import anndata\n",
    "import matplotlib.pyplot as plt\n",
    "import spatialdata as sd\n",
    "import scanpy as sc\n",
    "import seaborn as sns"
   ]
  },
  {
   "cell_type": "code",
   "execution_count": null,
   "metadata": {},
   "outputs": [],
   "source": [
    "adata = sc.read_h5ad('combinedall.h5ad')\n",
    "adata"
   ]
  },
  {
   "cell_type": "code",
   "execution_count": 79,
   "metadata": {},
   "outputs": [],
   "source": [
    "import numpy as np\n",
    "\n",
    "rbRNA = adata.layers['rbRNA'] \n",
    "transcription = adata.X  \n",
    "\n",
    "transcription_safe = np.where(transcription == 0, np.nan, transcription)\n",
    "\n",
    "te = rbRNA / transcription_safe\n",
    "adata.layers['TE'] = te"
   ]
  },
  {
   "cell_type": "code",
   "execution_count": 81,
   "metadata": {},
   "outputs": [],
   "source": [
    "totalRNA_cell_sum = np.sum(adata.X, axis=1) \n",
    "rbRNA_cell_sum = np.sum(adata.layers['rbRNA'], axis=1)  \n",
    "te_per_cell_mean = rbRNA_cell_sum / totalRNA_cell_sum       \n",
    "\n",
    "adata.obs['TE_cell_mean'] = te_per_cell_mean\n",
    "\n",
    "totalRNA_gene_sum = np.sum(adata.X, axis=0) \n",
    "rbRNA_gene_sum = np.sum(adata.layers['rbRNA'], axis=0)  \n",
    "te_per_gene_mean = rbRNA_gene_sum / totalRNA_gene_sum         \n",
    "\n",
    "adata.var['TE_gene_mean'] = te_per_gene_mean\n"
   ]
  },
  {
   "cell_type": "markdown",
   "metadata": {},
   "source": [
    "### QC"
   ]
  },
  {
   "cell_type": "code",
   "execution_count": 82,
   "metadata": {},
   "outputs": [],
   "source": [
    "import scanpy as sc\n",
    "import pandas as pd\n",
    "\n",
    "sc.pp.calculate_qc_metrics(adata, percent_top=None,inplace=True)\n",
    "\n",
    "qc_totalRNA_obs = adata.obs.copy()\n",
    "qc_totalRNA_var = adata.var.copy()\n",
    "qc_totalRNA_obs.columns = [f'totalRNA_{col}' for col in qc_totalRNA_obs.columns]\n",
    "qc_totalRNA_var.columns = [f'totalRNA_{col}' for col in qc_totalRNA_var.columns]\n",
    "\n",
    "temp_adata = adata.copy() \n",
    "temp_adata.X = adata.layers['rbRNA']  \n",
    "sc.pp.calculate_qc_metrics(temp_adata, percent_top=None,inplace=True)\n",
    "\n",
    "qc_rbRNA_obs = temp_adata.obs.copy()\n",
    "qc_rbRNA_var = temp_adata.var.copy()\n",
    "qc_rbRNA_obs.columns = [f'rbRNA_{col}' for col in qc_rbRNA_obs.columns]\n",
    "qc_rbRNA_var.columns = [f'rbRNA_{col}' for col in qc_rbRNA_var.columns]\n",
    "\n",
    "\n",
    "adata.obs = pd.concat([qc_totalRNA_obs, qc_rbRNA_obs], axis=1)\n",
    "\n",
    "adata.var = pd.concat([qc_totalRNA_var, qc_rbRNA_var], axis=1)\n",
    "\n"
   ]
  },
  {
   "cell_type": "markdown",
   "metadata": {},
   "source": [
    "### filter"
   ]
  },
  {
   "cell_type": "code",
   "execution_count": 83,
   "metadata": {},
   "outputs": [],
   "source": [
    "# Calculate max count for each gene\n",
    "adata.var['max_counts'] = adata.X.max(axis=0)"
   ]
  },
  {
   "cell_type": "code",
   "execution_count": 85,
   "metadata": {},
   "outputs": [],
   "source": [
    "# Remove rbRNA columns\n",
    "adata.obs = adata.obs.drop(columns=[\n",
    "    'rbRNA_cell_id', \n",
    "    'rbRNA_area',\n",
    "    'rbRNA_region', \n",
    "    'rbRNA_condition',\n",
    "    'rbRNA_sample'\n",
    "])\n",
    "\n",
    "# Rename totalRNA columns\n",
    "adata.obs = adata.obs.rename(columns={\n",
    "    'totalRNA_cell_id': 'cell_id',\n",
    "    'totalRNA_area': 'area', \n",
    "    'totalRNA_region': 'region',\n",
    "    'totalRNA_condition': 'condition',\n",
    "    'totalRNA_sample': 'sample'\n",
    "})\n"
   ]
  },
  {
   "cell_type": "code",
   "execution_count": 86,
   "metadata": {},
   "outputs": [],
   "source": [
    "adata.obs['totalRNA_density'] = adata.obs['totalRNA_total_counts'] / adata.obs['area']\n",
    "adata.obs['rbRNA_density'] = adata.obs['rbRNA_total_counts'] / adata.obs['area']"
   ]
  },
  {
   "cell_type": "code",
   "execution_count": null,
   "metadata": {},
   "outputs": [],
   "source": [
    "# Plot top 20 most expressed genes \n",
    "sc.pl.highest_expr_genes(adata, n_top=20)"
   ]
  },
  {
   "cell_type": "code",
   "execution_count": null,
   "metadata": {},
   "outputs": [],
   "source": [
    "# filter by volume\n",
    "sns.histplot(data=adata.obs, x='area')\n",
    "thres_vol_lower = 0.5e6\n",
    "thres_vol_higher = 6e6\n",
    "plt.axvline(x=thres_vol_lower, c='slategrey')\n",
    "plt.axvline(x=thres_vol_higher, c='slategrey')"
   ]
  },
  {
   "cell_type": "code",
   "execution_count": 89,
   "metadata": {},
   "outputs": [],
   "source": [
    "pass_vol = [1 if area<thres_vol_higher and area>thres_vol_lower else 0 for area in adata.obs['area']]\n",
    "adata.obs['pass_volume_filter'] = pass_vol"
   ]
  },
  {
   "cell_type": "code",
   "execution_count": null,
   "metadata": {},
   "outputs": [],
   "source": [
    "## filter cells\n",
    "import matplotlib.pyplot as plt\n",
    "import seaborn as sns\n",
    "\n",
    "sns.histplot(data=adata.obs, x='totalRNA_total_counts', linewidth=0, label='totalRNA', color='#1f77b4')\n",
    "thres_tr_lower_totalRNA = 500\n",
    "thres_tr_higher_totalRNA = 6000\n",
    "plt.axvline(x=thres_tr_lower_totalRNA, c='#1f77b4')\n",
    "plt.axvline(x=thres_tr_higher_totalRNA, c='#1f77b4')\n",
    "\n",
    "sns.histplot(data=adata.obs, x='rbRNA_total_counts', linewidth=0, label='rbRNA', color='#ff7f0e')\n",
    "\n",
    "\n",
    "plt.xlabel('Total Reads Counts')\n",
    "\n",
    "plt.legend(loc='upper right')\n",
    "\n",
    "plt.show()"
   ]
  },
  {
   "cell_type": "code",
   "execution_count": 92,
   "metadata": {},
   "outputs": [],
   "source": [
    "\n",
    "pass_tr = [\n",
    "    1 if totalRNA_total_counts > thres_tr_lower_totalRNA and totalRNA_total_counts < thres_tr_higher_totalRNA\n",
    "    else 0\n",
    "    for totalRNA_total_counts in adata.obs['totalRNA_total_counts']\n",
    "]\n",
    "adata.obs['pass_counts_filter'] = pass_tr"
   ]
  },
  {
   "cell_type": "code",
   "execution_count": 93,
   "metadata": {},
   "outputs": [],
   "source": [
    "adata.obs['pass_two_filters'] = np.logical_and(adata.obs['pass_volume_filter'], adata.obs['pass_counts_filter'])"
   ]
  },
  {
   "cell_type": "code",
   "execution_count": null,
   "metadata": {},
   "outputs": [],
   "source": [
    "import pandas as pd\n",
    "filtered_data = adata.obs[adata.obs['pass_two_filters']]\n",
    "totalRNA_data = filtered_data[['totalRNA_density']].rename(columns={'totalRNA_density': 'density'})\n",
    "totalRNA_data['source'] = 'totalRNA'\n",
    "\n",
    "rbRNA_data = filtered_data[['rbRNA_density']].rename(columns={'rbRNA_density': 'density'})\n",
    "rbRNA_data['source'] = 'rbRNA'\n",
    "\n",
    "combined_data = pd.concat([totalRNA_data, rbRNA_data])\n",
    "\n",
    "sns.histplot(data=combined_data, x='source', y='density', hue='source', multiple='dodge', kde=False)\n",
    "\n",
    "\n",
    "plt.legend()\n",
    "plt.xlabel('Source')\n",
    "plt.ylabel('Density')\n",
    "plt.title('Density Comparison: totalRNA vs rbRNA')"
   ]
  },
  {
   "cell_type": "code",
   "execution_count": null,
   "metadata": {},
   "outputs": [],
   "source": [
    "## filter density\n",
    "dens_thres = 0\n",
    "pass_dens = [\n",
    "    1 if (rbRNA_density > dens_thres) and\n",
    "         (totalRNA_density > dens_thres) \n",
    "    else 0\n",
    "    for rbRNA_density, totalRNA_density in zip(adata.obs['rbRNA_density'], adata.obs['totalRNA_density'])\n",
    "]\n",
    "adata.obs['pass_density_filter'] = pass_dens\n",
    "\n",
    "\n",
    "# check density after filtering\n",
    "sns.histplot(data=adata.obs[adata.obs['pass_two_filters']],  y='totalRNA_density', linewidth=0)\n",
    "\n",
    "\n",
    "# check density after filtering\n",
    "sns.histplot(data=adata.obs[adata.obs['pass_two_filters']],  y='rbRNA_density', linewidth=0)\n",
    "\n",
    "plt.ylabel('Density')\n",
    "plt.title('Density Comparison: totalRNA vs rbRNA')\n"
   ]
  },
  {
   "cell_type": "code",
   "execution_count": 96,
   "metadata": {},
   "outputs": [],
   "source": [
    "adata.obs['pass_all_filters'] = np.logical_and(adata.obs['pass_two_filters'], adata.obs['pass_density_filter'])"
   ]
  },
  {
   "cell_type": "code",
   "execution_count": null,
   "metadata": {},
   "outputs": [],
   "source": [
    "import pandas as pd\n",
    "filtered_data = adata.obs[adata.obs['pass_all_filters']]\n",
    "totalRNA_data = filtered_data[['totalRNA_total_counts']].rename(columns={'totalRNA_total_counts': 'total_counts'})\n",
    "totalRNA_data['source'] = 'totalRNA'\n",
    "\n",
    "rbRNA_data = filtered_data[['rbRNA_total_counts']].rename(columns={'rbRNA_total_counts': 'total_counts'})\n",
    "rbRNA_data['source'] = 'rbRNA'\n",
    "\n",
    "combined_data = pd.concat([totalRNA_data, rbRNA_data])\n",
    "\n",
    "sns.violinplot(data=combined_data, x='source', y='total_counts', hue='source')\n",
    "\n",
    "\n",
    "plt.legend()\n",
    "plt.xlabel('Source')\n",
    "plt.ylabel('total_counts')\n",
    "plt.title('Pass all cell filters: total_counts')"
   ]
  },
  {
   "cell_type": "code",
   "execution_count": null,
   "metadata": {},
   "outputs": [],
   "source": [
    "total_cells = len(adata.obs)\n",
    "filtered_cells = np.sum(adata.obs['pass_all_filters'])\n",
    "filtered_out = total_cells - filtered_cells\n",
    "\n",
    "print(f\"Total cells before filtering: {total_cells}\")\n",
    "print(f\"Cells passing all filters: {filtered_cells}\")\n",
    "print(f\"Filtered out cells: {filtered_out} ({filtered_out/total_cells*100:.2f}%)\")"
   ]
  },
  {
   "cell_type": "code",
   "execution_count": null,
   "metadata": {},
   "outputs": [],
   "source": [
    "# low abundance genes\n",
    "plt.hist([np.mean(adata.X[adata.obs['pass_all_filters']], axis=0), \n",
    "        np.mean(adata.layers['rbRNA'][adata.obs['pass_all_filters']], axis=0)], \n",
    "        range=(0,8), bins=50, log=True, histtype='step', rwidth=1,\n",
    "        label=['totalRNA', 'rbRNA'] )\n",
    "plt.xlabel('mean expression (lower end, after cell filtering)'), plt.legend()"
   ]
  },
  {
   "cell_type": "code",
   "execution_count": null,
   "metadata": {},
   "outputs": [],
   "source": [
    "## filter genes\n",
    "\n",
    "\n",
    "def filter_genes(data, pct_threshold, max_threshold, var_key, data_name):\n",
    "    f1 = np.count_nonzero(data, axis=0) > pct_threshold * data.shape[0]  \n",
    "    f2 = np.amax(data, axis=0) > max_threshold  \n",
    "    f = np.logical_and(f1, f2)  \n",
    "    print(\n",
    "        f\"{data_name} threshold: expressed in at least {pct_threshold * 100:.1f}% cells AND max expression in a cell greater than {max_threshold}\"\n",
    "    )\n",
    "    print(\n",
    "        f\"Filtered out: {adata.n_vars - np.count_nonzero(f)} genes -- {(adata.n_vars - np.count_nonzero(f)) / adata.n_vars * 100:.2f}%\"\n",
    "    )\n",
    "    adata.var[var_key] = f\n",
    "\n",
    "    filtered_genes = adata.var_names[~f]\n",
    "    print(f\"Filtered genes for {data_name}: {filtered_genes}\")\n",
    "\n",
    "totalRNA = adata.X[adata.obs['pass_all_filters']] \n",
    "filter_genes(totalRNA, 0.05, 4, 'filter_totalRNA', 'totalRNA')\n"
   ]
  },
  {
   "cell_type": "code",
   "execution_count": 101,
   "metadata": {},
   "outputs": [],
   "source": [
    "adata.var.rename(columns={'filter_totalRNA': 'filter'}, inplace=True)"
   ]
  },
  {
   "cell_type": "code",
   "execution_count": null,
   "metadata": {},
   "outputs": [],
   "source": [
    "# Count number of cells passing all filters\n",
    "n_passing = np.sum(adata.obs['pass_all_filters'])\n",
    "n_total = len(adata.obs)\n",
    "pct_passing = n_passing / n_total * 100\n",
    "\n",
    "print(f\"Number of cells passing all filters: {n_passing} out of {n_total} ({pct_passing:.1f}%)\")\n",
    "\n",
    "# Display full dataframe\n",
    "adata.obs"
   ]
  },
  {
   "cell_type": "code",
   "execution_count": null,
   "metadata": {},
   "outputs": [],
   "source": [
    "# Count number of genes passing filters\n",
    "n_passing = np.sum(adata.var['filter'])\n",
    "n_total = len(adata.var)\n",
    "pct_passing = n_passing / n_total * 100\n",
    "\n",
    "print(f\"Number of genes passing all filters: {n_passing} out of {n_total} ({pct_passing:.1f}%)\")\n",
    "\n",
    "# Display full dataframe\n",
    "adata.var"
   ]
  },
  {
   "cell_type": "code",
   "execution_count": 104,
   "metadata": {},
   "outputs": [],
   "source": [
    "# Remove rbRNA columns\n",
    "adata.obs = adata.obs.drop(columns=[\n",
    "    'rbRNA_TE_cell_mean'\n",
    "])\n",
    "\n",
    "# Rename totalRNA columns\n",
    "adata.obs = adata.obs.rename(columns={\n",
    "    'totalRNA_TE_cell_mean': 'TE_cell_mean'\n",
    "})\n"
   ]
  },
  {
   "cell_type": "code",
   "execution_count": 105,
   "metadata": {},
   "outputs": [],
   "source": [
    "\n",
    "# Remove rbRNA columns\n",
    "adata.var = adata.var.drop(columns=[\n",
    "    'rbRNA_TE_gene_mean'\n",
    "])\n",
    "\n",
    "# Rename totalRNA columns\n",
    "adata.var = adata.var.rename(columns={\n",
    "    'totalRNA_TE_gene_mean': 'TE_gene_mean'\n",
    "})\n"
   ]
  },
  {
   "cell_type": "code",
   "execution_count": 106,
   "metadata": {},
   "outputs": [],
   "source": [
    "adata.write_h5ad('/storage/lingyuan2/20250101rj/downstream/alldatafinalzarr/filtered.h5ad')"
   ]
  },
  {
   "cell_type": "code",
   "execution_count": null,
   "metadata": {},
   "outputs": [],
   "source": [
    "obs_filter = adata.obs['pass_all_filters']\n",
    "var_filter = adata.var['filter']\n",
    "\n",
    "filtered_data = adata[obs_filter, var_filter]\n",
    "\n",
    "print(filtered_data)"
   ]
  },
  {
   "cell_type": "code",
   "execution_count": 108,
   "metadata": {},
   "outputs": [],
   "source": [
    "filtered_data.write_h5ad('/storage/lingyuan2/20250101rj/downstream/alldatafinalzarr/filtered_data.h5ad')"
   ]
  }
 ],
 "metadata": {
  "kernelspec": {
   "display_name": "bigfish_env",
   "language": "python",
   "name": "python3"
  },
  "language_info": {
   "codemirror_mode": {
    "name": "ipython",
    "version": 3
   },
   "file_extension": ".py",
   "mimetype": "text/x-python",
   "name": "python",
   "nbconvert_exporter": "python",
   "pygments_lexer": "ipython3",
   "version": "3.9.19"
  }
 },
 "nbformat": 4,
 "nbformat_minor": 2
}
