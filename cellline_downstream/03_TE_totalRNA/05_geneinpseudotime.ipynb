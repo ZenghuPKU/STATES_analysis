{
 "cells": [
  {
   "cell_type": "code",
   "execution_count": 1,
   "metadata": {},
   "outputs": [],
   "source": [
    "import pandas as pd\n",
    "import scanpy as sc\n"
   ]
  },
  {
   "cell_type": "code",
   "execution_count": 2,
   "metadata": {},
   "outputs": [],
   "source": [
    "pseudotime_df = pd.read_csv('/storage/lingyuan2/STATES_data/pseudotime_values.csv')\n",
    "adata = sc.read_h5ad('/storage/lingyuan2/STATES_data/filtered_data.h5ad')\n",
    "adata.obs['Pseudotime'] = pseudotime_df['Pseudotime'].values\n",
    "adata.write('/storage/lingyuan2/STATES_data/pseudotime.h5ad')\n"
   ]
  },
  {
   "cell_type": "code",
   "execution_count": 3,
   "metadata": {},
   "outputs": [],
   "source": [
    "adata = sc.read_h5ad('/storage/lingyuan2/STATES_data/pseudotime.h5ad')"
   ]
  },
  {
   "cell_type": "code",
   "execution_count": null,
   "metadata": {},
   "outputs": [],
   "source": [
    "import numpy as np\n",
    "adata.layers['totalRNA'] = adata.X.copy()\n",
    "total_counts = adata.layers['totalRNA'].sum(axis=1)\n",
    "median_reads = np.median(total_counts)\n",
    "print(f\"Median number of reads per cell: {median_reads}\")\n",
    "adata.layers['totalRNA_norm'] = sc.pp.normalize_total(adata, target_sum=median_reads, layer='totalRNA', inplace=False)['X']\n",
    "adata.layers['TE'] = np.nan_to_num(adata.layers['TE'],nan=0.0)\n",
    "adata.layers['rbRNA_norm'] = adata.layers['TE'] * adata.layers['totalRNA_norm']\n",
    "sc.pp.log1p(adata, layer='rbRNA_norm')\n",
    "sc.pp.log1p(adata, layer='totalRNA_norm')\n",
    "sc.pp.log1p(adata, layer='TE')"
   ]
  },
  {
   "cell_type": "code",
   "execution_count": 13,
   "metadata": {},
   "outputs": [],
   "source": [
    "import numpy as np\n",
    "import matplotlib.pyplot as plt\n",
    "from scipy.stats import binned_statistic\n",
    "from scipy.interpolate import make_interp_spline\n",
    "plt.rcParams['svg.fonttype'] = 'none'\n",
    "gene_te = adata.layers['TE'][:, adata.var_names.get_loc('IL27RA')]\n",
    "gene_x = adata.X[:, adata.var_names.get_loc('IL27RA')]\n",
    "gene_rbRNA = adata.layers['rbRNA'][:, adata.var_names.get_loc('IL27RA')]\n",
    "pseudotime = adata.obs['Pseudotime']\n",
    "\n",
    "n_bins = 20\n",
    "bins = np.linspace(pseudotime.min(), pseudotime.max(), n_bins + 1)\n",
    "\n",
    "te_means = np.zeros(n_bins)\n",
    "x_means = np.zeros(n_bins)\n",
    "rbRNA_means = np.zeros(n_bins)\n",
    "\n",
    "for i in range(n_bins):\n",
    "    mask = (pseudotime >= bins[i]) & (pseudotime < bins[i+1])\n",
    "    bin_cells = np.where(mask)[0]\n",
    "    \n",
    "    if len(bin_cells) > 0:\n",
    "        sum_totalRNA = np.sum(gene_x[bin_cells])\n",
    "        sum_rbRNA = np.sum(gene_rbRNA[bin_cells])\n",
    "        original_te = sum_rbRNA / sum_totalRNA if sum_totalRNA > 0 else 0\n",
    "        normalized_totalRNA = gene_x[bin_cells] / np.sum(gene_x[bin_cells]) * 2203\n",
    "        normalized_rbRNA = normalized_totalRNA * original_te\n",
    "        log_totalRNA = np.log1p(normalized_totalRNA)\n",
    "        log_rbRNA = np.log1p(normalized_rbRNA)\n",
    "        log_te = np.log1p(original_te)\n",
    "        te_means[i] = np.mean(log_te)\n",
    "        x_means[i] = np.mean(log_totalRNA)\n",
    "        rbRNA_means[i] = np.mean(log_rbRNA)\n",
    "\n",
    "x_new = np.linspace(bins[:-1].min(), bins[:-1].max(), 300)\n",
    "te_smooth = make_interp_spline(bins[:-1], te_means)(x_new)\n",
    "x_smooth = make_interp_spline(bins[:-1], x_means)(x_new)\n",
    "\n",
    "fig, ax1 = plt.subplots(figsize=(4, 4))\n",
    "ax2 = ax1.twinx()\n",
    "\n",
    "ax1.set_box_aspect(1)\n",
    "ax2.set_box_aspect(1)\n",
    "\n",
    "ax1.plot(x_new, te_smooth, color='red', label='TE', linewidth=0.5)\n",
    "ax2.plot(x_new, x_smooth, color='blue', label='TotalRNA', linewidth=0.5)\n",
    "\n",
    "ax1.set_xlabel('Pseudotime')\n",
    "ax1.set_ylabel('TE Expression', color='red', fontsize=12)\n",
    "ax2.set_ylabel('TotalRNA Expression', color='blue', fontsize=12)\n",
    "plt.title('IL27RA Expression in Pseudotime', fontsize=14)\n",
    "\n",
    "ax1.tick_params(axis='y', labelcolor='red', labelsize=10)\n",
    "ax2.tick_params(axis='y', labelcolor='blue', labelsize=10)\n",
    "ax1.tick_params(axis='x', labelsize=10)\n",
    "\n",
    "ax1.grid(False)\n",
    "\n",
    "lines1, labels1 = ax1.get_legend_handles_labels()\n",
    "lines2, labels2 = ax2.get_legend_handles_labels()\n",
    "\n",
    "plt.tight_layout()\n",
    "#plt.show()\n",
    "plt.savefig('/storage/lingyuan2/STATES_data/IL27RA_expression_pseudotime.svg', format='svg')\n",
    "plt.close()\n",
    "\n"
   ]
  }
 ],
 "metadata": {
  "kernelspec": {
   "display_name": "bigfish_env",
   "language": "python",
   "name": "python3"
  },
  "language_info": {
   "codemirror_mode": {
    "name": "ipython",
    "version": 3
   },
   "file_extension": ".py",
   "mimetype": "text/x-python",
   "name": "python",
   "nbconvert_exporter": "python",
   "pygments_lexer": "ipython3",
   "version": "3.9.19"
  }
 },
 "nbformat": 4,
 "nbformat_minor": 2
}
