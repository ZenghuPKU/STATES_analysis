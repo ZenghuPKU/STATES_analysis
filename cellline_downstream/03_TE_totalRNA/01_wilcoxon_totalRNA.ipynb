{
 "cells": [
  {
   "cell_type": "code",
   "execution_count": 1,
   "metadata": {},
   "outputs": [],
   "source": [
    "import numpy as np\n",
    "import pandas as pd\n",
    "import anndata\n",
    "import matplotlib.pyplot as plt\n",
    "import spatialdata as sd\n",
    "import scanpy as sc\n",
    "from scipy import stats\n",
    "import seaborn as sns"
   ]
  },
  {
   "cell_type": "code",
   "execution_count": null,
   "metadata": {},
   "outputs": [],
   "source": [
    "filtered_data = sc.read_h5ad('filtered_data.h5ad')\n",
    "filtered_data"
   ]
  },
  {
   "cell_type": "code",
   "execution_count": null,
   "metadata": {},
   "outputs": [],
   "source": [
    "filtered_data.obs['sample'].unique()"
   ]
  },
  {
   "cell_type": "code",
   "execution_count": null,
   "metadata": {},
   "outputs": [],
   "source": [
    "# Calculate total counts per cell\n",
    "total_counts = filtered_data.X.sum(axis=1)\n",
    "\n",
    "# Calculate median of total counts\n",
    "median_reads = np.median(total_counts)\n",
    "\n",
    "print(f\"Median number of reads per cell: {median_reads}\")"
   ]
  },
  {
   "cell_type": "code",
   "execution_count": 5,
   "metadata": {},
   "outputs": [],
   "source": [
    "# Normalize main matrix (X)\n",
    "sc.pp.normalize_total(filtered_data, target_sum=median_reads)"
   ]
  },
  {
   "cell_type": "code",
   "execution_count": 6,
   "metadata": {},
   "outputs": [],
   "source": [
    "sc.pp.log1p(filtered_data)"
   ]
  },
  {
   "cell_type": "code",
   "execution_count": null,
   "metadata": {},
   "outputs": [],
   "source": [
    "np.expm1(filtered_data.X).sum(axis=1)"
   ]
  },
  {
   "cell_type": "code",
   "execution_count": null,
   "metadata": {},
   "outputs": [],
   "source": [
    "from statsmodels.stats.multitest import multipletests\n",
    "import numpy as np\n",
    "from scipy import stats\n",
    "\n",
    "control_group = 'C3control'\n",
    "early_groups = ['B4Tg15min', 'B5Tg30min']\n",
    "late_groups = ['C4Tg2h', 'C5Tg4h']\n",
    "combined_groups = {'early': early_groups, 'late': late_groups}\n",
    "\n",
    "results = {\n",
    "    'adjusted_p_values': {group: [] for group in combined_groups},\n",
    "    'log2_fold_change': {group: [] for group in combined_groups}\n",
    "}\n",
    "\n",
    "for gene in filtered_data.var_names:\n",
    "    gene_totalRNA = filtered_data[:, gene].X.toarray().flatten()\n",
    "    control_cells = filtered_data.obs['sample'] == control_group\n",
    "    control_totalRNA = gene_totalRNA[control_cells]\n",
    "    for group_name, group_list in combined_groups.items():\n",
    "        group_mask = filtered_data.obs['sample'].isin(group_list)\n",
    "        group_totalRNA = gene_totalRNA[group_mask]\n",
    "        if len(control_totalRNA) > 0 and len(group_totalRNA) > 0:\n",
    "            try:\n",
    "                u_stat, p_value = stats.mannwhitneyu(group_totalRNA, control_totalRNA, alternative='two-sided')\n",
    "                mean_group = np.mean(group_totalRNA)\n",
    "                mean_control = np.mean(control_totalRNA)\n",
    "                if mean_control > 0 and mean_group > 0:\n",
    "                    log2_fold_change = np.log2(mean_group / mean_control)\n",
    "                else:\n",
    "                    log2_fold_change = np.nan\n",
    "            except ValueError:\n",
    "                p_value = np.nan\n",
    "                log2_fold_change = np.nan\n",
    "        else:\n",
    "            p_value = np.nan\n",
    "            log2_fold_change = np.nan\n",
    "        results['adjusted_p_values'][group_name].append(p_value)\n",
    "        results['log2_fold_change'][group_name].append(log2_fold_change)\n",
    "\n",
    "for group in combined_groups:\n",
    "    p_values = results['adjusted_p_values'][group]\n",
    "    valid_indices = ~np.isnan(p_values)\n",
    "    valid_p_values = np.array(p_values)[valid_indices]\n",
    "    if len(valid_p_values) > 0:\n",
    "        adjusted_p_values = np.full(len(p_values), np.nan)\n",
    "        adjusted_p_values[valid_indices] = multipletests(valid_p_values, method='fdr_bh')[1]\n",
    "        results['adjusted_p_values'][group] = adjusted_p_values.tolist()\n",
    "\n",
    "for group in combined_groups:\n",
    "    filtered_data.var[f'{group}_adjusted_p_value'] = results['adjusted_p_values'][group]\n",
    "    filtered_data.var[f'{group}_log2_fold_change'] = results['log2_fold_change'][group]\n"
   ]
  },
  {
   "cell_type": "code",
   "execution_count": 10,
   "metadata": {},
   "outputs": [],
   "source": [
    "last_four_columns = filtered_data.var.iloc[:, -4:]\n",
    "\n",
    "last_four_columns.to_csv('wilcoxon_results_last_four_columns.csv')"
   ]
  },
  {
   "cell_type": "code",
   "execution_count": null,
   "metadata": {},
   "outputs": [],
   "source": [
    "import matplotlib.pyplot as plt\n",
    "import seaborn as sns\n",
    "import numpy as np\n",
    "import pandas as pd\n",
    "\n",
    "early_groups = ['B4Tg15min', 'B5Tg30min']\n",
    "late_groups = ['C4Tg2h', 'C5Tg4h']\n",
    "\n",
    "p_value_threshold = 0.05\n",
    "log2_fold_change_threshold = 0.4\n",
    "\n",
    "fig, axes = plt.subplots(1, 2, figsize=(18, 4))\n",
    "fig.subplots_adjust(wspace=0.4)\n",
    "\n",
    "early_log2fc = filtered_data.var['early_log2_fold_change']\n",
    "early_padj = filtered_data.var['early_adjusted_p_value']\n",
    "\n",
    "late_log2fc = filtered_data.var['late_log2_fold_change']\n",
    "late_padj = filtered_data.var['late_adjusted_p_value']\n",
    "\n",
    "for i, (log2_fold_change, adjusted_p_values, title) in enumerate([\n",
    "    (early_log2fc, early_padj, 'Early vs Control'),\n",
    "    (late_log2fc, late_padj, 'Late vs Control')\n",
    "]):\n",
    "    ax = axes[i]\n",
    "    y_values = -np.log10(adjusted_p_values)\n",
    "    sns.scatterplot(\n",
    "        x=log2_fold_change,\n",
    "        y=np.minimum(y_values, 60),\n",
    "        alpha=0.6,\n",
    "        color='grey',\n",
    "        ax=ax,\n",
    "        s=10\n",
    "    )\n",
    "    upregulated_genes = (adjusted_p_values < p_value_threshold) & (log2_fold_change > log2_fold_change_threshold)\n",
    "    downregulated_genes = (adjusted_p_values < p_value_threshold) & (log2_fold_change < -log2_fold_change_threshold)\n",
    "    sns.scatterplot(\n",
    "        x=log2_fold_change[upregulated_genes],\n",
    "        y=np.minimum(y_values[upregulated_genes], 60),\n",
    "        alpha=0.8,\n",
    "        color='red',\n",
    "        ax=ax,\n",
    "        s=10\n",
    "    )\n",
    "    sns.scatterplot(\n",
    "        x=log2_fold_change[downregulated_genes],\n",
    "        y=np.minimum(y_values[downregulated_genes], 60),\n",
    "        alpha=0.8,\n",
    "        color='blue',\n",
    "        ax=ax,\n",
    "        s=10\n",
    "    )\n",
    "    ax.axvline(x=log2_fold_change_threshold, color='blue', linestyle='--', linewidth=1.5)\n",
    "    ax.axvline(x=-log2_fold_change_threshold, color='blue', linestyle='--', linewidth=1.5)\n",
    "    ax.axhline(y=-np.log10(p_value_threshold), color='green', linestyle='--', linewidth=1.5)\n",
    "    ax.set_ylim(0, 60)\n",
    "    ax.set_xlim(-2, 2)\n",
    "    ax.spines['top'].set_visible(False)\n",
    "    ax.spines['right'].set_visible(False)\n",
    "    ax.set_title(title, fontsize=14)\n",
    "    ax.set_xlabel('Log2 Fold Change', fontsize=12)\n",
    "    ax.set_ylabel('-Log10(Adjusted P-value)', fontsize=12)\n",
    "    upregulated_gene_names = filtered_data.var.index[upregulated_genes].tolist()\n",
    "    downregulated_gene_names = filtered_data.var.index[downregulated_genes].tolist()\n",
    "    period = 'early' if i == 0 else 'late'\n",
    "    pd.Series(upregulated_gene_names).to_csv(f'{period}_upregulated_genes.csv', index=False, header=False)\n",
    "    pd.Series(downregulated_gene_names).to_csv(f'{period}_downregulated_genes.csv', index=False, header=False)\n",
    "\n",
    "plt.savefig('totalRNA_volcano_plots_early_late.pdf')\n",
    "plt.close(fig)"
   ]
  }
 ],
 "metadata": {
  "kernelspec": {
   "display_name": "bigfish_env",
   "language": "python",
   "name": "python3"
  },
  "language_info": {
   "codemirror_mode": {
    "name": "ipython",
    "version": 3
   },
   "file_extension": ".py",
   "mimetype": "text/x-python",
   "name": "python",
   "nbconvert_exporter": "python",
   "pygments_lexer": "ipython3",
   "version": "3.9.19"
  }
 },
 "nbformat": 4,
 "nbformat_minor": 2
}
